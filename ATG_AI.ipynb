{
  "nbformat": 4,
  "nbformat_minor": 0,
  "metadata": {
    "colab": {
      "provenance": []
    },
    "kernelspec": {
      "name": "python3",
      "display_name": "Python 3"
    },
    "language_info": {
      "name": "python"
    },
    "accelerator": "GPU",
    "gpuClass": "standard"
  },
  "cells": [
    {
      "cell_type": "markdown",
      "source": [
        "# Clone ATG.AI from repo"
      ],
      "metadata": {
        "id": "shr1FNCRQiIu"
      }
    },
    {
      "cell_type": "code",
      "execution_count": null,
      "metadata": {
        "id": "HQssTfhbOlw5"
      },
      "outputs": [],
      "source": [
        "!git clone https://github.com/RanGlad12/ATG.AI.git  # clone repo\n",
        "%cd /content/ATG.AI\n",
        "!git lfs pull"
      ]
    },
    {
      "cell_type": "code",
      "source": [
        "!git submodule init\n",
        "!git submodule update"
      ],
      "metadata": {
        "id": "l8Zw5b7SPxWm"
      },
      "execution_count": null,
      "outputs": []
    },
    {
      "cell_type": "code",
      "source": [
        "!pip install -r requirements.txt\n",
        "!pip install -r yolov5/requirements.txt"
      ],
      "metadata": {
        "id": "M9NNsipwQtF1"
      },
      "execution_count": null,
      "outputs": []
    },
    {
      "cell_type": "code",
      "source": [
        "!python squat_judge.py /content/ATG.AI/IMG_0441.mov"
      ],
      "metadata": {
        "id": "3PG_1byVRR64"
      },
      "execution_count": null,
      "outputs": []
    }
  ]
}