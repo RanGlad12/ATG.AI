{
  "cells": [
    {
      "cell_type": "markdown",
      "metadata": {
        "id": "shr1FNCRQiIu"
      },
      "source": [
        "# Clone ATG.AI from repo"
      ]
    },
    {
      "cell_type": "code",
      "execution_count": null,
      "metadata": {
        "id": "HQssTfhbOlw5"
      },
      "outputs": [],
      "source": [
        "!git clone https://github.com/RanGlad12/ATG.AI.git  # clone repo\n",
        "%cd /content/ATG.AI\n",
        "!git lfs pull"
      ]
    },
    {
      "cell_type": "code",
      "execution_count": null,
      "metadata": {
        "id": "l8Zw5b7SPxWm"
      },
      "outputs": [],
      "source": [
        "!git submodule init\n",
        "!git submodule update"
      ]
    },
    {
      "attachments": {},
      "cell_type": "markdown",
      "metadata": {},
      "source": [
        "# Install requirements"
      ]
    },
    {
      "cell_type": "code",
      "execution_count": null,
      "metadata": {
        "id": "M9NNsipwQtF1"
      },
      "outputs": [],
      "source": [
        "!pip install -r requirements.txt\n",
        "!pip install -r yolov5/requirements.txt"
      ]
    },
    {
      "attachments": {},
      "cell_type": "markdown",
      "metadata": {},
      "source": [
        "# Run script\n",
        "You may upload your choice of squat video to Colab or Google Drive and enter its path as the argument of the script\n",
        "i.e. replace /content/ATG.AI/IMG_0441.mov with /your/video/file/path"
      ]
    },
    {
      "cell_type": "code",
      "execution_count": null,
      "metadata": {
        "id": "3PG_1byVRR64"
      },
      "outputs": [],
      "source": [
        "!python squat_judge.py /content/ATG.AI/IMG_0441.mov"
      ]
    }
  ],
  "metadata": {
    "accelerator": "GPU",
    "colab": {
      "provenance": []
    },
    "gpuClass": "standard",
    "kernelspec": {
      "display_name": "Python 3",
      "name": "python3"
    },
    "language_info": {
      "name": "python"
    }
  },
  "nbformat": 4,
  "nbformat_minor": 0
}
